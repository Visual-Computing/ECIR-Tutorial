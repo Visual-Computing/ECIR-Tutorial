{
  "cells": [
    {
      "cell_type": "markdown",
      "source": [
        "# Approximate Nearest Neighbor Search using the Dynamic Exploration Graph"
      ],
      "metadata": {
        "id": "5UHRlq9rMOqM"
      }
    },
    {
      "cell_type": "markdown",
      "source": [
        "# Setup Python dependencies"
      ],
      "metadata": {
        "id": "34k2vOrCPlDD"
      }
    },
    {
      "cell_type": "code",
      "source": [
        "!pip install faiss-cpu deglib"
      ],
      "metadata": {
        "colab": {
          "base_uri": "https://localhost:8080/"
        },
        "id": "GspBXJAxX2Ne",
        "outputId": "d4918ddd-961d-4eff-e469-9199f671d83c"
      },
      "execution_count": null,
      "outputs": [
        {
          "output_type": "stream",
          "name": "stdout",
          "text": [
            "Collecting faiss-cpu\n",
            "  Downloading faiss_cpu-1.10.0-cp311-cp311-manylinux_2_28_x86_64.whl.metadata (4.4 kB)\n",
            "Collecting deglib\n",
            "  Downloading deglib-0.1.3-cp311-cp311-manylinux_2_17_x86_64.manylinux2014_x86_64.whl.metadata (8.0 kB)\n",
            "Requirement already satisfied: numpy<3.0,>=1.25.0 in /usr/local/lib/python3.11/dist-packages (from faiss-cpu) (2.0.2)\n",
            "Requirement already satisfied: packaging in /usr/local/lib/python3.11/dist-packages (from faiss-cpu) (24.2)\n",
            "Collecting numpy<3.0,>=1.25.0 (from faiss-cpu)\n",
            "  Downloading numpy-2.2.4-cp311-cp311-manylinux_2_17_x86_64.manylinux2014_x86_64.whl.metadata (62 kB)\n",
            "\u001b[2K     \u001b[90m━━━━━━━━━━━━━━━━━━━━━━━━━━━━━━━━━━━━━━━━\u001b[0m \u001b[32m62.0/62.0 kB\u001b[0m \u001b[31m896.7 kB/s\u001b[0m eta \u001b[36m0:00:00\u001b[0m\n",
            "\u001b[?25hRequirement already satisfied: psutil in /usr/local/lib/python3.11/dist-packages (from deglib) (5.9.5)\n",
            "Downloading faiss_cpu-1.10.0-cp311-cp311-manylinux_2_28_x86_64.whl (30.7 MB)\n",
            "\u001b[2K   \u001b[90m━━━━━━━━━━━━━━━━━━━━━━━━━━━━━━━━━━━━━━━━\u001b[0m \u001b[32m30.7/30.7 MB\u001b[0m \u001b[31m17.2 MB/s\u001b[0m eta \u001b[36m0:00:00\u001b[0m\n",
            "\u001b[?25hDownloading deglib-0.1.3-cp311-cp311-manylinux_2_17_x86_64.manylinux2014_x86_64.whl (552 kB)\n",
            "\u001b[2K   \u001b[90m━━━━━━━━━━━━━━━━━━━━━━━━━━━━━━━━━━━━━━━━\u001b[0m \u001b[32m552.3/552.3 kB\u001b[0m \u001b[31m19.6 MB/s\u001b[0m eta \u001b[36m0:00:00\u001b[0m\n",
            "\u001b[?25hDownloading numpy-2.2.4-cp311-cp311-manylinux_2_17_x86_64.manylinux2014_x86_64.whl (16.4 MB)\n",
            "\u001b[2K   \u001b[90m━━━━━━━━━━━━━━━━━━━━━━━━━━━━━━━━━━━━━━━━\u001b[0m \u001b[32m16.4/16.4 MB\u001b[0m \u001b[31m18.9 MB/s\u001b[0m eta \u001b[36m0:00:00\u001b[0m\n",
            "\u001b[?25hInstalling collected packages: numpy, faiss-cpu, deglib\n",
            "  Attempting uninstall: numpy\n",
            "    Found existing installation: numpy 2.0.2\n",
            "    Uninstalling numpy-2.0.2:\n",
            "      Successfully uninstalled numpy-2.0.2\n",
            "\u001b[31mERROR: pip's dependency resolver does not currently take into account all the packages that are installed. This behaviour is the source of the following dependency conflicts.\n",
            "tensorflow 2.18.0 requires numpy<2.1.0,>=1.26.0, but you have numpy 2.2.4 which is incompatible.\n",
            "numba 0.60.0 requires numpy<2.1,>=1.22, but you have numpy 2.2.4 which is incompatible.\u001b[0m\u001b[31m\n",
            "\u001b[0mSuccessfully installed deglib-0.1.3 faiss-cpu-1.10.0 numpy-2.2.4\n"
          ]
        }
      ]
    },
    {
      "cell_type": "code",
      "execution_count": null,
      "metadata": {
        "id": "C77_SybePhkq"
      },
      "outputs": [],
      "source": [
        "import time\n",
        "import faiss\n",
        "import deglib\n",
        "import numpy as np\n",
        "import matplotlib.pyplot as plt"
      ]
    },
    {
      "cell_type": "markdown",
      "source": [
        "# Download and load dataset\n",
        "\n",
        "Download the SIFT1M dataset, which includes 1 million SIFT feature vectors, 10,000 test queries, and ground truth data specifying the 100 nearest neighbors within the base dataset for each query."
      ],
      "metadata": {
        "id": "_7OqMcJJ493N"
      }
    },
    {
      "cell_type": "code",
      "source": [
        "!curl -L -o sift.tar.gz https://static.visual-computing.com/paper/DEG/sift.tar.gz\n",
        "!tar -xzf sift.tar.gz"
      ],
      "metadata": {
        "colab": {
          "base_uri": "https://localhost:8080/"
        },
        "id": "x8mdZjWwUbtJ",
        "outputId": "f6abf1c0-14f9-446e-d99e-12fcbb086c60"
      },
      "execution_count": null,
      "outputs": [
        {
          "output_type": "stream",
          "name": "stdout",
          "text": [
            "  % Total    % Received % Xferd  Average Speed   Time    Time     Time  Current\n",
            "                                 Dload  Upload   Total   Spent    Left  Speed\n",
            "100  154M  100  154M    0     0  20.6M      0  0:00:07  0:00:07 --:--:-- 24.1M\n"
          ]
        }
      ]
    },
    {
      "cell_type": "code",
      "source": [
        "# Read .fvecs and .ivecs files\n",
        "def read_fvecs(filename):\n",
        "    with open(filename, 'rb') as f:\n",
        "        dim = np.fromfile(f, dtype=np.int32, count=1)[0]\n",
        "    return np.ascontiguousarray(np.fromfile(filename, dtype=np.float32).reshape(-1, dim + 1)[:, 1:], dtype=np.float32)\n",
        "\n",
        "def read_ivecs(filename):\n",
        "    with open(filename, 'rb') as f:\n",
        "        dim = np.fromfile(f, dtype=np.int32, count=1)[0]\n",
        "    return np.ascontiguousarray(np.fromfile(filename, dtype=np.int32).reshape(-1, dim + 1)[:, 1:], dtype=np.int32)\n",
        "\n",
        "# Load data\n",
        "sift_base = read_fvecs(\"./sift/sift_base.fvecs\")              # base vectors\n",
        "sift_query = read_fvecs(\"./sift/sift_query.fvecs\")            # queries\n",
        "sift_query_gt = read_ivecs(\"./sift/sift_groundtruth.ivecs\")   # ground truth indices\n",
        "\n",
        "print(f\"Base shape: {sift_base.shape}, Query shape: {sift_query.shape}\")"
      ],
      "metadata": {
        "colab": {
          "base_uri": "https://localhost:8080/"
        },
        "id": "vebB5MJFXV0h",
        "outputId": "9852ad88-a608-452f-9973-6841f5de9028"
      },
      "execution_count": null,
      "outputs": [
        {
          "output_type": "stream",
          "name": "stdout",
          "text": [
            "Base shape: (1000000, 128), Query shape: (10000, 128)\n"
          ]
        }
      ]
    },
    {
      "cell_type": "markdown",
      "metadata": {
        "id": "9jwEErfOPhki"
      },
      "source": [
        "## k-Nearest Neighbor Search (kNNS) with FAISS\n",
        "\n",
        "Build a FAISS search index with the SIFT1M dataset and use the 10000 search queries to search in this index for the 100 nearest neighbors."
      ]
    },
    {
      "cell_type": "code",
      "source": [
        "# Restrict to 1 thread\n",
        "faiss.omp_set_num_threads(1)\n",
        "\n",
        "# Get dimensionality\n",
        "d = sift_base.shape[1]\n",
        "\n",
        "# Create a FAISS index for L2 distance\n",
        "start = time.time()\n",
        "index = faiss.IndexFlatL2(d)\n",
        "end = time.time()\n",
        "print(f\"FAISS index creation took {end - start:.2f} seconds.\")\n",
        "\n",
        "# Add the base vectors to the index\n",
        "start = time.time()\n",
        "index.add(sift_base)\n",
        "end = time.time()\n",
        "print(f\"FAISS adding data took {end - start:.2f} seconds.\")\n",
        "\n",
        "# Search\n",
        "k = 100  # number of nearest neighbors\n",
        "start = time.time()\n",
        "distances, indices = index.search(sift_query, k)\n",
        "end = time.time()\n",
        "qps_scan = len(sift_query) / (end - start)\n",
        "print(f\"FAISS kNNS (1 thread) took {end - start:.2f} seconds.\")\n",
        "print(f\"Nearest neighbor indices shape: {indices.shape}\")"
      ],
      "metadata": {
        "colab": {
          "base_uri": "https://localhost:8080/"
        },
        "id": "fK_vnK5mXeSM",
        "outputId": "ce7b30da-74ac-4ee2-d89b-8406e5f5d0c6"
      },
      "execution_count": null,
      "outputs": [
        {
          "output_type": "stream",
          "name": "stdout",
          "text": [
            "FAISS index creation took 0.00 seconds.\n",
            "FAISS adding data took 0.51 seconds.\n",
            "FAISS kNNS (1 thread) took 75.97 seconds.\n",
            "Nearest neighbor indices shape: (10000, 100)\n"
          ]
        }
      ]
    },
    {
      "cell_type": "markdown",
      "source": [
        "# Approximated Nearest Neighbor Search (ANNS)\n",
        "\n",
        "Use the same dataset to build an approximate nearest neighbor (ANN) search index, and evaluate its performance by comparing the results to the ground truth using the Recall@k metric."
      ],
      "metadata": {
        "id": "Gryhvw3VYiMi"
      }
    },
    {
      "cell_type": "code",
      "source": [
        "def recall_at_k(retrieved_indices, ground_truth, k=100):\n",
        "    \"\"\"\n",
        "    Computes Recall@k for nearest neighbor search.\n",
        "\n",
        "    Parameters:\n",
        "        retrieved_indices: np.ndarray of shape (num_queries, k)\n",
        "        ground_truth: np.ndarray of shape (num_queries, 1) – true nearest neighbor indices\n",
        "        k: int – number of top predictions to check\n",
        "\n",
        "    Returns:\n",
        "        recall: float – fraction of queries where ground truth was in top-k\n",
        "    \"\"\"\n",
        "    correct = 0\n",
        "    for i in range(ground_truth.shape[0]):\n",
        "        if ground_truth[i, 0] in retrieved_indices[i, :k]:\n",
        "            correct += 1\n",
        "    return correct / ground_truth.shape[0]"
      ],
      "metadata": {
        "id": "pm48na4-aeoF"
      },
      "execution_count": null,
      "outputs": []
    },
    {
      "cell_type": "markdown",
      "source": [
        "## ANNS with the Dynamic Exploration Graph (DEG)\n",
        "\n",
        "Build the Dynamic Exploration Graph using the SIFT1M dataset."
      ],
      "metadata": {
        "id": "1u4bt2B40iY8"
      }
    },
    {
      "cell_type": "code",
      "source": [
        "# Build graph\n",
        "t0 = time.time()\n",
        "graph = deglib.builder.build_from_data(\n",
        "    data=sift_base,\n",
        "    edges_per_vertex=16,\n",
        "    extend_k=32,\n",
        "    extend_eps=0.1,\n",
        "    improve_k=0,\n",
        "    lid=deglib.builder.LID.Low,\n",
        "    callback=\"progress\"\n",
        ")\n",
        "t1 = time.time()\n",
        "print(f\"Building the graph took {end - start:.2f} seconds.\")"
      ],
      "metadata": {
        "colab": {
          "base_uri": "https://localhost:8080/"
        },
        "id": "T3IJ__iro1UB",
        "outputId": "5042a02b-4687-4ca5-a17e-725d424d506d"
      },
      "execution_count": null,
      "outputs": [
        {
          "output_type": "stream",
          "name": "stdout",
          "text": [
            "100.00% [############################################################] (1000000 / 1000000)\n",
            "Building the graph took 75.97 seconds.\n"
          ]
        }
      ]
    },
    {
      "cell_type": "markdown",
      "source": [
        "Run searches on the graph using the 10,000 test queries, varying the search parameters to observe different Recall@K performance levels and corresponding search speeds."
      ],
      "metadata": {
        "id": "NRyBENpQPnMB"
      }
    },
    {
      "cell_type": "code",
      "source": [
        "recalls_deg = []\n",
        "qps_deg = []\n",
        "for eps in [0.01, 0.05, 0.1]:\n",
        "\n",
        "    # Search\n",
        "    t0 = time.time()\n",
        "    results, _ = graph.search(query=sift_query, eps=eps, k=k, threads=1)\n",
        "    t1 = time.time()\n",
        "    search_time = t1 - t0\n",
        "    qps = len(sift_query) / search_time\n",
        "\n",
        "    # Recall\n",
        "    recall = recall_at_k(results, sift_query_gt, k)\n",
        "    recalls_deg.append(recall)\n",
        "    qps_deg.append(qps)\n",
        "\n",
        "    # Pretty print\n",
        "    print(\n",
        "        f\"eps={eps:.3f}, k={k:3d} | \"\n",
        "        f\"Recall@{k:<3d}: {recall * 100:6.2f}% | \"\n",
        "        f\"QPS: {qps:7.2f} | \"\n",
        "        f\"Search: {search_time:6.2f}s\"\n",
        "    )"
      ],
      "metadata": {
        "colab": {
          "base_uri": "https://localhost:8080/"
        },
        "id": "BtOcpf31pSll",
        "outputId": "b301347d-d7e8-4c0a-e900-92e8ea958a6b"
      },
      "execution_count": null,
      "outputs": [
        {
          "output_type": "stream",
          "name": "stdout",
          "text": [
            "eps=0.010, k=100 | Recall@100:  96.05% | QPS: 3404.79 | Search:   2.94s\n",
            "eps=0.050, k=100 | Recall@100:  98.00% | QPS: 2327.73 | Search:   4.30s\n",
            "eps=0.100, k=100 | Recall@100:  99.24% | QPS: 1792.35 | Search:   5.58s\n"
          ]
        }
      ]
    },
    {
      "cell_type": "markdown",
      "source": [
        "## Plot the ANNS performance\n",
        "\n",
        "Create a Recall@K vs. Queries Per Second plot to illustrate the trade-off between search accuracy and efficiency, highlighting the speed gains compared to linear search."
      ],
      "metadata": {
        "id": "AH_X9UGZrFBD"
      }
    },
    {
      "cell_type": "code",
      "source": [
        "data = [\n",
        "    {\"label\": \"DEG\", \"recalls\": recalls_deg, \"qps\": qps_deg, \"color\": \"green\"},\n",
        "    {\"label\": \"scan\", \"recalls\": [1], \"qps\": [qps_scan], \"color\": \"red\"}\n",
        "]\n",
        "\n",
        "plt.figure(figsize=(7, 6))\n",
        "for d in data:\n",
        "    plt.plot(d[\"recalls\"], d[\"qps\"], label=d[\"label\"],\n",
        "             color=d[\"color\"], linestyle=\"-\", marker='o')\n",
        "\n",
        "plt.xlabel(\"recall@100\")\n",
        "plt.ylabel(\"QPS\")\n",
        "plt.title(\"SIFT1M\")\n",
        "plt.xlim(0.95, 1.0)\n",
        "plt.ylim(0, 4000)\n",
        "plt.legend()\n",
        "plt.grid(True)\n",
        "plt.tight_layout()\n",
        "plt.show()"
      ],
      "metadata": {
        "colab": {
          "base_uri": "https://localhost:8080/",
          "height": 607
        },
        "id": "4_nmIn8gpn00",
        "outputId": "227ba658-54c9-4dc1-bfb3-ad0500e66753"
      },
      "execution_count": null,
      "outputs": [
        {
          "output_type": "display_data",
          "data": {
            "text/plain": [
              "<Figure size 700x600 with 1 Axes>"
            ],
            "image/png": "[encoded data removed]"
          },
          "metadata": {}
        }
      ]
    },
    {
      "cell_type": "markdown",
      "source": [
        "# Removing data points from the graph\n",
        "\n",
        "Simulate an evolving dataset by removing 100,000 data points from both the dataset and the graph. This removal takes only a few seconds."
      ],
      "metadata": {
        "id": "4VomE62uq7QH"
      }
    },
    {
      "cell_type": "code",
      "source": [
        "builder = deglib.builder.EvenRegularGraphBuilder(\n",
        "    graph,\n",
        "    deglib.std.Mt19937(7),\n",
        "    lid=deglib.builder.LID.Low,\n",
        "    extend_k=32,\n",
        "    extend_eps=0.1,\n",
        "    improve_k=0\n",
        ")\n",
        "for label in np.arange(900000, sift_base.shape[0], dtype=np.uint32):\n",
        "  builder.remove_entry(label)\n",
        "builder.build(callback=\"progress\")"
      ],
      "metadata": {
        "colab": {
          "base_uri": "https://localhost:8080/"
        },
        "id": "L52ZR5aEsNBR",
        "outputId": "ce531aaa-ebe3-478b-ea51-bc1779f831cb"
      },
      "execution_count": null,
      "outputs": [
        {
          "output_type": "stream",
          "name": "stdout",
          "text": [
            "100.00% [############################################################] (100000 / 100000)\n"
          ]
        }
      ]
    },
    {
      "cell_type": "markdown",
      "source": [
        "## Calculate new ground truth data for 900k dataset\n",
        "\n",
        "Compute the 100 nearest neighbors for the updated dataset of 900,000 data points to establish the ground truth for evaluating Recall@K performance. This recalculation takes nearly as long as the original linear search process."
      ],
      "metadata": {
        "id": "ShubheD0t_Gd"
      }
    },
    {
      "cell_type": "code",
      "source": [
        "# Get dimensionality\n",
        "d = sift_base.shape[1]\n",
        "\n",
        "# Create a FAISS index for L2 distance\n",
        "start = time.time()\n",
        "index_900k = faiss.IndexFlatL2(d)\n",
        "index_900k.add(sift_base[:900000])\n",
        "end = time.time()\n",
        "print(f\"Creating FAISS index took {end - start:.2f} seconds.\")\n",
        "\n",
        "# Search\n",
        "k = 100  # number of nearest neighbors\n",
        "start = time.time()\n",
        "distances_900k, indices_900k = index_900k.search(sift_query, k)\n",
        "end = time.time()\n",
        "qps_scan_900k = len(sift_query) / (end - start)\n",
        "print(f\"FAISS kNNS (1 thread) took {end - start:.2f} seconds.\")\n",
        "print(f\"Nearest neighbor indices shape: {indices.shape}\")"
      ],
      "metadata": {
        "colab": {
          "base_uri": "https://localhost:8080/"
        },
        "id": "xNrEiq-lsh2X",
        "outputId": "553fbd51-44fe-4591-ac49-1ad4e337099e"
      },
      "execution_count": null,
      "outputs": [
        {
          "output_type": "stream",
          "name": "stdout",
          "text": [
            "Creating FAISS index took 0.41 seconds.\n",
            "FAISS kNNS (1 thread) took 63.48 seconds.\n",
            "Nearest neighbor indices shape: (10000, 100)\n"
          ]
        }
      ]
    },
    {
      "cell_type": "markdown",
      "source": [
        "## Testing DEG with 900k\n",
        "\n",
        "Test the Dynamic Exploration Graph against the new ground truth data."
      ],
      "metadata": {
        "id": "bqNfX9_uu4F2"
      }
    },
    {
      "cell_type": "code",
      "source": [
        "recalls_deg = []\n",
        "qps_deg = []\n",
        "for eps in [0.01, 0.05, 0.1]:\n",
        "\n",
        "    # Search\n",
        "    t0 = time.time()\n",
        "    results, _ = graph.search(query=sift_query, eps=eps, k=k, threads=1)\n",
        "    t1 = time.time()\n",
        "    search_time = t1 - t0\n",
        "    qps = len(sift_query) / search_time\n",
        "\n",
        "    # Recall\n",
        "    recall = recall_at_k(results, indices_900k, k)\n",
        "    recalls_deg.append(recall)\n",
        "    qps_deg.append(qps)\n",
        "\n",
        "    # Pretty print\n",
        "    print(\n",
        "        f\"eps={eps:.3f}, k={k:3d} | \"\n",
        "        f\"Recall@{k:<3d}: {recall * 100:6.2f}% | \"\n",
        "        f\"QPS: {qps:7.2f} | \"\n",
        "        f\"Search: {search_time:6.2f}s\"\n",
        "    )"
      ],
      "metadata": {
        "colab": {
          "base_uri": "https://localhost:8080/"
        },
        "id": "0ujYBLcut3b2",
        "outputId": "cea92de7-fb13-4d71-8621-41a56f854b99"
      },
      "execution_count": null,
      "outputs": [
        {
          "output_type": "stream",
          "name": "stdout",
          "text": [
            "eps=0.010, k=100 | Recall@100:  96.25% | QPS: 3402.34 | Search:   2.94s\n",
            "eps=0.050, k=100 | Recall@100:  98.11% | QPS: 2582.95 | Search:   3.87s\n",
            "eps=0.100, k=100 | Recall@100:  99.27% | QPS: 1639.35 | Search:   6.10s\n"
          ]
        }
      ]
    },
    {
      "cell_type": "markdown",
      "source": [
        "Plot the updated search efficiency curve."
      ],
      "metadata": {
        "id": "debfBYhyRdib"
      }
    },
    {
      "cell_type": "code",
      "source": [
        "data = [\n",
        "    {\"label\": \"DEG\", \"recalls\": recalls_deg, \"qps\": qps_deg, \"color\": \"green\"},\n",
        "    {\"label\": \"scan\", \"recalls\": [1], \"qps\": [qps_scan_900k], \"color\": \"red\"}\n",
        "]\n",
        "\n",
        "plt.figure(figsize=(7, 6))\n",
        "for d in data:\n",
        "    plt.plot(d[\"recalls\"], d[\"qps\"], label=d[\"label\"],\n",
        "             color=d[\"color\"], linestyle=\"-\", marker='o')\n",
        "\n",
        "plt.xlabel(\"recall@100\")\n",
        "plt.ylabel(\"QPS\")\n",
        "plt.title(\"SIFT 1M - 100k\")\n",
        "plt.xlim(0.95, 1.0)\n",
        "plt.ylim(0, 4000)\n",
        "plt.legend()\n",
        "plt.grid(True)\n",
        "plt.tight_layout()\n",
        "plt.show()"
      ],
      "metadata": {
        "colab": {
          "base_uri": "https://localhost:8080/"
        },
        "id": "whYS-LgQuci3",
        "outputId": "29be9c07-1b52-46b0-9021-2eb8e96a31d3"
      },
      "execution_count": null,
      "outputs": [
        {
          "output_type": "display_data",
          "data": {
            "text/plain": [
              "<Figure size 700x600 with 1 Axes>"
            ],
            "image/png": "[encoded data removed]"
          },
          "metadata": {}
        }
      ]
    },
    {
      "cell_type": "code",
      "source": [],
      "metadata": {
        "id": "WcHyjVzvvusL"
      },
      "execution_count": null,
      "outputs": []
    }
  ],
  "metadata": {
    "kernelspec": {
      "display_name": "Python 3 (ipykernel)",
      "language": "python",
      "name": "python3"
    },
    "language_info": {
      "codemirror_mode": {
        "name": "ipython",
        "version": 3
      },
      "file_extension": ".py",
      "mimetype": "text/x-python",
      "name": "python",
      "nbconvert_exporter": "python",
      "pygments_lexer": "ipython3",
      "version": "3.12.7"
    },
    "varInspector": {
      "cols": {
        "lenName": 16,
        "lenType": 16,
        "lenVar": 40
      },
      "kernels_config": {
        "python": {
          "delete_cmd_postfix": "",
          "delete_cmd_prefix": "del ",
          "library": "var_list.py",
          "varRefreshCmd": "print(var_dic_list())"
        },
        "r": {
          "delete_cmd_postfix": ") ",
          "delete_cmd_prefix": "rm(",
          "library": "var_list.r",
          "varRefreshCmd": "cat(var_dic_list()) "
        }
      },
      "types_to_exclude": [
        "module",
        "function",
        "builtin_function_or_method",
        "instance",
        "_Feature"
      ],
      "window_display": false
    },
    "colab": {
      "provenance": []
    }
  },
  "nbformat": 4,
  "nbformat_minor": 0
}